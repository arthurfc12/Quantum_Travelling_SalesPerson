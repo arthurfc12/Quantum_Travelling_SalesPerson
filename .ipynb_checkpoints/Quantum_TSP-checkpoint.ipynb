{
 "cells": [
  {
   "cell_type": "markdown",
   "id": "d9dfa109-850a-4c85-b868-01d5ecb95197",
   "metadata": {},
   "source": [
    "# Quantum Travelling SalesPerson\n",
    "### Andre Rocco\n",
    "### Arthur Carvalho"
   ]
  },
  {
   "cell_type": "markdown",
   "id": "ae2a8491-a4c6-4e1f-8bfb-1392424d53b8",
   "metadata": {},
   "source": [
    "In the following notebook, we shall describe a (BOOLEAN OR PHASE ORACLE) with the intention of identifying possible points of interest in optimizing the Travelling SalesPerson problem.\n",
    "\n",
    "After that, a viable solution will be implemented using quantum parallelism, which will then be tested in quantum simulators and real quantum computers."
   ]
  },
  {
   "cell_type": "markdown",
   "id": "9ced5762-b9af-469f-b1c2-ae325b35c04a",
   "metadata": {},
   "source": [
    "### PART 1 - Describing a **_BOOLEAN OR PHASE_** ORACLE"
   ]
  },
  {
   "cell_type": "code",
   "execution_count": null,
   "id": "1957c712-89a5-4533-9cc1-fa82929e3da0",
   "metadata": {},
   "outputs": [],
   "source": []
  },
  {
   "cell_type": "markdown",
   "id": "7961ba69-1c53-42bf-b3d0-b5423106894d",
   "metadata": {},
   "source": [
    "### PART 2 - Implementing a solution using Quantum Parallelism"
   ]
  },
  {
   "cell_type": "code",
   "execution_count": null,
   "id": "da8b63e7-626c-461f-afab-16e9e6638c81",
   "metadata": {},
   "outputs": [],
   "source": []
  },
  {
   "cell_type": "markdown",
   "id": "89c70b71-5892-4686-b6bf-5b5fd0aa4a94",
   "metadata": {},
   "source": [
    "### PART 3 - Testing on Quantum Simulators and Quantum Computers"
   ]
  },
  {
   "cell_type": "code",
   "execution_count": null,
   "id": "fca275af-813b-41f8-bbd1-16b99167488e",
   "metadata": {},
   "outputs": [],
   "source": []
  }
 ],
 "metadata": {
  "kernelspec": {
   "display_name": "Python 3 (ipykernel)",
   "language": "python",
   "name": "python3"
  },
  "language_info": {
   "codemirror_mode": {
    "name": "ipython",
    "version": 3
   },
   "file_extension": ".py",
   "mimetype": "text/x-python",
   "name": "python",
   "nbconvert_exporter": "python",
   "pygments_lexer": "ipython3",
   "version": "3.10.12"
  }
 },
 "nbformat": 4,
 "nbformat_minor": 5
}
