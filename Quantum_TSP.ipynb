{
 "cells": [
  {
   "cell_type": "markdown",
   "id": "d9dfa109-850a-4c85-b868-01d5ecb95197",
   "metadata": {},
   "source": [
    "# Quantum Travelling Salesman Problem\n",
    "### Andre Rocco\n",
    "### Arthur Carvalho"
   ]
  },
  {
   "cell_type": "markdown",
   "id": "ae2a8491-a4c6-4e1f-8bfb-1392424d53b8",
   "metadata": {},
   "source": [
    "In the following notebook, we shall describe a phase oracle with the intention of identifying possible points of interest in optimizing the Travelling Salesman problem.\n",
    "\n",
    "After that, a viable solution will be implemented using quantum parallelism, which will then be tested in quantum simulators and real quantum computers.\n",
    "\n",
    "Lastly, we will test the performance of our implementation against widely known solutions in the classical computing sphere and comparing results.\""
   ]
  },
  {
   "cell_type": "markdown",
   "id": "9ced5762-b9af-469f-b1c2-ae325b35c04a",
   "metadata": {},
   "source": [
    "### PART 1 - Describing a Phase Oracle"
   ]
  },
  {
   "cell_type": "markdown",
   "id": "8d0a2c66-98aa-44e8-808b-d8d0bb8f3f7c",
   "metadata": {},
   "source": [
    "#### Describing the Travelling Salesman Problem"
   ]
  },
  {
   "cell_type": "markdown",
   "id": "bb25d441-7a21-422e-86d0-c5ba57d2a753",
   "metadata": {},
   "source": [
    "&nbsp;&nbsp;&nbsp;&nbsp;First, lets start by explaining what the travelling salesman problem entails:\n",
    "\n",
    "&nbsp;&nbsp;&nbsp;&nbsp;The travelling Salesman Problem is a Np-hard problem which asks the following question:\n",
    "        \n",
    "&nbsp;&nbsp;&nbsp;&nbsp;\"Given a list of locations and the distances between each pair of locations, what is the shortest possible route that visits each location exactly once and returns to the origin location?\"\n",
    "\n",
    "&nbsp;&nbsp;&nbsp;&nbsp;See the image below for a visual representation of a route in the travelling salesman problem:\n",
    "\n",
    "<img src=\"Images/TSP_example.png\">\n",
    "    \n",
    "&nbsp;&nbsp;&nbsp;&nbsp;As you can see, various points are laid out, similar to a map, and a route is traced between the points, with the last trace of the route being a connection between the last point and the origin location\n",
    "\n",
    "&nbsp;&nbsp;&nbsp;&nbsp;With that in mind, a non-quantum computing solution to the problem uses a plethora of algorithms with the intention of finding the best route possible with the locations specified. Imagine that, for the solution of the problem, a user tries to employ an exhaustive search, a brute force algorithm which tests all the possible configurations of the parameters, so that the best possible route is found.\n",
    "\n",
    "&nbsp;&nbsp;&nbsp;&nbsp;By doing so, an obvious problem arises: for every time the n number of locations that the algorithm will have to test is added upon, the number of possible routes raises exponentially, and, with a large enough number of n locations, trying to brute force a solution with regular computing becomes unfeasible.\n",
    "\n",
    "&nbsp;&nbsp;&nbsp;&nbsp;Even with a non brute force algorithm, using certain heuristics, a feasible solution starts becoming harder every time the number of locations rises with the possible configurations of routes."
   ]
  },
  {
   "cell_type": "markdown",
   "id": "d166d08c-4f7a-472f-ba44-f5171b815411",
   "metadata": {},
   "source": [
    "#### Time complexity of the Travelling Salesman Problem"
   ]
  },
  {
   "cell_type": "markdown",
   "id": "ae32d9f5-f13e-4db6-8af3-9b8add0bc420",
   "metadata": {},
   "source": [
    "&nbsp;&nbsp;&nbsp;&nbsp;Considering the Travelling Salesman Problem as a NP-hard problem, the computational, and therefore, the time complexity of the problem is one of imense proportions.\n",
    "\n",
    "&nbsp;&nbsp;&nbsp;&nbsp;By adopting a brute force algorithm, where an exhaustive search is employed in order to check every possible combination of routes possible, the time complexity turns out to O(n!), because each time a new node is added to the existing nodes, the possible routes increases factorially.\n",
    "\n",
    "&nbsp;&nbsp;&nbsp;&nbsp;It is also possible to adopt an optimization for the problem in classical computing, such as the Held Karp algorithm. The Held Karp algortihm proposes that the route should be divided into sub-routes, where, if a particular sub-route is found to be optimal, we could find in lesser time the optimal route of the problem as a whole by adding the multiple optimal stretches in a route. See the example below:\n",
    "\n",
    "    Optimal Path P connects cities A-D while passing through C and E.\n",
    "    Optimal Path Q connects cities D-G while passing through F and B\n",
    "    Optimal Path R connects cities G and A\n",
    "\n",
    "&nbsp;&nbsp;&nbsp;&nbsp;in an algorithm as such, by utilizing parallelism and other tools to hastily apply the parameters in an optimal fashion, the time complexity of the problem narrows down to O($2^n$ * n²), but, in order to satisfy the higher load of data being generated by the algorithm, O(2$n^n$) space is required, whereas the brute force method requires only O($n^2$) space.\n"
   ]
  },
  {
   "cell_type": "markdown",
   "id": "36bde448-04f3-4e30-96ea-5e5d01714d44",
   "metadata": {},
   "source": [
    "#### Using a Phase Oracle for optimization "
   ]
  },
  {
   "cell_type": "markdown",
   "id": "358e4f03-c61e-45ad-be59-70bcc2c1c9ce",
   "metadata": {},
   "source": [
    "&nbsp;&nbsp;&nbsp;&nbsp;A Phase Oracle is a device in quantum computing which utilizes phase shifts on quantum states to encode solutions to a problem. When using a Phase Oracle, if a solution is deemed worthy, the phase shift is applied, and, if not, no phase shift or a phase shift of different size is applied.\n",
    "\n",
    "&nbsp;&nbsp;&nbsp;&nbsp;In regards to the Travelling Salesman Problem, a method of optimization can be achieved with the following steps:\n",
    "\n",
    "    - A route (e.g. A-B-C-A) can be labelled as a quantum state;\n",
    "    - A phase shift is applied to the states. The phase shift depends on the total distance of the route, with shorter routes receiving a smaller phase;\n",
    "    - Quantum parallelism is applied to speed up the processing power of the algorithm;\n",
    "    - Amplitude Amplification is applied to have better odds of finding the best route;\n",
    "    - The route with smallest phase is chosen as the optimal route.\n",
    "\n",
    "&nbsp;&nbsp;&nbsp;&nbsp;By applying the method above, which is commonly reffered to as a Grover's algorithm, quadratic speedup can be achieved, meaning that if an algorithm runs in O(n) time complexity, with this method the complexity shrinks to O($\\sqrt{n}$).\n",
    "\n",
    "&nbsp;&nbsp;&nbsp;&nbsp;The principal challenge that arises in utilizing such an algorithm stems from the fact that, in order to correctly implement a phase oracle, it is required to have a trustworthy calculation of the quality of the solution in superposition, and that may configure itself to be both complex and resource intensive.\n"
   ]
  },
  {
   "cell_type": "markdown",
   "id": "7961ba69-1c53-42bf-b3d0-b5423106894d",
   "metadata": {},
   "source": [
    "### PART 2 - Implementing a solution using Quantum Parallelism"
   ]
  },
  {
   "cell_type": "code",
   "execution_count": 5,
   "id": "da8b63e7-626c-461f-afab-16e9e6638c81",
   "metadata": {},
   "outputs": [],
   "source": [
    "from Scripts.naive_forest_tsp import ForestTSPSolverNaive\n",
    "import numpy as np\n",
    "from Scripts import utilities\n",
    "from Scripts import analysis\n",
    "from Scripts import plots\n",
    "import matplotlib.pyplot as plt"
   ]
  },
  {
   "cell_type": "code",
   "execution_count": 6,
   "id": "f4d398be-c2e1-47ce-bbb5-f4c039bb721d",
   "metadata": {},
   "outputs": [
    {
     "data": {
      "image/png": "[encoded data removed]",
      "text/plain": [
       "<Figure size 640x480 with 1 Axes>"
      ]
     },
     "metadata": {},
     "output_type": "display_data"
    }
   ],
   "source": [
    "cities = np.array([[0, 4],[0, 0],[3, 0]])\n",
    "distance_matrix = utilities.get_distance_matrix(cities)\n",
    "plots.plot_cities(cities)\n",
    "plt.show()"
   ]
  },
  {
   "cell_type": "code",
   "execution_count": 8,
   "id": "a99bbb05-8cd7-46d8-ba12-b0f9dc4d35e1",
   "metadata": {},
   "outputs": [
    {
     "ename": "ImportError",
     "evalue": "cannot import name 'QVMConnection' from 'pyquil.api' (/home/arthu/.local/lib/python3.10/site-packages/pyquil/api/__init__.py)",
     "output_type": "error",
     "traceback": [
      "\u001b[0;31m---------------------------------------------------------------------------\u001b[0m",
      "\u001b[0;31mImportError\u001b[0m                               Traceback (most recent call last)",
      "\u001b[0;32m/tmp/ipykernel_42063/2095439961.py\u001b[0m in \u001b[0;36m<module>\u001b[0;34m\u001b[0m\n\u001b[0;32m----> 1\u001b[0;31m \u001b[0;32mfrom\u001b[0m \u001b[0mpyquil\u001b[0m\u001b[0;34m.\u001b[0m\u001b[0mapi\u001b[0m \u001b[0;32mimport\u001b[0m \u001b[0mQVMConnection\u001b[0m\u001b[0;34m\u001b[0m\u001b[0;34m\u001b[0m\u001b[0m\n\u001b[0m",
      "\u001b[0;31mImportError\u001b[0m: cannot import name 'QVMConnection' from 'pyquil.api' (/home/arthu/.local/lib/python3.10/site-packages/pyquil/api/__init__.py)"
     ]
    }
   ],
   "source": [
    "from pyquil.api import QVMConnection"
   ]
  },
  {
   "cell_type": "code",
   "execution_count": 7,
   "id": "e4af67a8-2914-4e97-96d6-0d0e5d08784b",
   "metadata": {},
   "outputs": [
    {
     "ename": "AttributeError",
     "evalue": "module 'pyquil.api' has no attribute 'QVMConnection'",
     "output_type": "error",
     "traceback": [
      "\u001b[0;31m---------------------------------------------------------------------------\u001b[0m",
      "\u001b[0;31mAttributeError\u001b[0m                            Traceback (most recent call last)",
      "\u001b[0;32m/tmp/ipykernel_42063/3975017428.py\u001b[0m in \u001b[0;36m<module>\u001b[0;34m\u001b[0m\n\u001b[1;32m      1\u001b[0m \u001b[0msteps\u001b[0m \u001b[0;34m=\u001b[0m \u001b[0;36m1\u001b[0m\u001b[0;34m\u001b[0m\u001b[0;34m\u001b[0m\u001b[0m\n\u001b[1;32m      2\u001b[0m \u001b[0mtol\u001b[0m \u001b[0;34m=\u001b[0m \u001b[0;36m10e-2\u001b[0m\u001b[0;34m\u001b[0m\u001b[0;34m\u001b[0m\u001b[0m\n\u001b[0;32m----> 3\u001b[0;31m \u001b[0mtsp_solver\u001b[0m \u001b[0;34m=\u001b[0m \u001b[0mForestTSPSolverNaive\u001b[0m\u001b[0;34m(\u001b[0m\u001b[0mdistance_matrix\u001b[0m\u001b[0;34m,\u001b[0m \u001b[0msteps\u001b[0m\u001b[0;34m=\u001b[0m\u001b[0msteps\u001b[0m\u001b[0;34m,\u001b[0m \u001b[0mxtol\u001b[0m\u001b[0;34m=\u001b[0m\u001b[0mtol\u001b[0m\u001b[0;34m,\u001b[0m \u001b[0mftol\u001b[0m\u001b[0;34m=\u001b[0m\u001b[0mtol\u001b[0m\u001b[0;34m,\u001b[0m \u001b[0muse_constraints\u001b[0m\u001b[0;34m=\u001b[0m\u001b[0;32mTrue\u001b[0m\u001b[0;34m)\u001b[0m\u001b[0;34m\u001b[0m\u001b[0;34m\u001b[0m\u001b[0m\n\u001b[0m\u001b[1;32m      4\u001b[0m \u001b[0msolution\u001b[0m\u001b[0;34m,\u001b[0m \u001b[0mnaive_distribution\u001b[0m \u001b[0;34m=\u001b[0m \u001b[0mtsp_solver\u001b[0m\u001b[0;34m.\u001b[0m\u001b[0msolve_tsp\u001b[0m\u001b[0;34m(\u001b[0m\u001b[0;34m)\u001b[0m\u001b[0;34m\u001b[0m\u001b[0;34m\u001b[0m\u001b[0m\n\u001b[1;32m      5\u001b[0m \u001b[0mprint\u001b[0m\u001b[0;34m(\u001b[0m\u001b[0;34m\"Solution:\"\u001b[0m\u001b[0;34m,\u001b[0m \u001b[0msolution\u001b[0m\u001b[0;34m)\u001b[0m\u001b[0;34m\u001b[0m\u001b[0;34m\u001b[0m\u001b[0m\n",
      "\u001b[0;32m~/Documents/Quantum_Travelling_SalesPerson/Scripts/naive_forest_tsp.py\u001b[0m in \u001b[0;36m__init__\u001b[0;34m(self, distance_matrix, steps, ftol, xtol, use_constraints)\u001b[0m\n\u001b[1;32m     15\u001b[0m \u001b[0;34m\u001b[0m\u001b[0m\n\u001b[1;32m     16\u001b[0m         \u001b[0mself\u001b[0m\u001b[0;34m.\u001b[0m\u001b[0mdistance_matrix\u001b[0m \u001b[0;34m=\u001b[0m \u001b[0mdistance_matrix\u001b[0m\u001b[0;34m\u001b[0m\u001b[0;34m\u001b[0m\u001b[0m\n\u001b[0;32m---> 17\u001b[0;31m         \u001b[0mself\u001b[0m\u001b[0;34m.\u001b[0m\u001b[0mqvm\u001b[0m \u001b[0;34m=\u001b[0m \u001b[0mapi\u001b[0m\u001b[0;34m.\u001b[0m\u001b[0mQVMConnection\u001b[0m\u001b[0;34m(\u001b[0m\u001b[0;34m)\u001b[0m\u001b[0;34m\u001b[0m\u001b[0;34m\u001b[0m\u001b[0m\n\u001b[0m\u001b[1;32m     18\u001b[0m         \u001b[0mself\u001b[0m\u001b[0;34m.\u001b[0m\u001b[0msteps\u001b[0m \u001b[0;34m=\u001b[0m \u001b[0msteps\u001b[0m\u001b[0;34m\u001b[0m\u001b[0;34m\u001b[0m\u001b[0m\n\u001b[1;32m     19\u001b[0m         \u001b[0mself\u001b[0m\u001b[0;34m.\u001b[0m\u001b[0mftol\u001b[0m \u001b[0;34m=\u001b[0m \u001b[0mftol\u001b[0m\u001b[0;34m\u001b[0m\u001b[0;34m\u001b[0m\u001b[0m\n",
      "\u001b[0;31mAttributeError\u001b[0m: module 'pyquil.api' has no attribute 'QVMConnection'"
     ]
    }
   ],
   "source": [
    "steps = 1\n",
    "tol = 10e-2\n",
    "tsp_solver = ForestTSPSolverNaive(distance_matrix, steps=steps, xtol=tol, ftol=tol, use_constraints=True)\n",
    "solution, naive_distribution = tsp_solver.solve_tsp()\n",
    "print(\"Solution:\", solution)\n",
    "print(\"Naive distribution:\", naive_distribution)"
   ]
  },
  {
   "cell_type": "code",
   "execution_count": null,
   "id": "4e089766-435e-4d71-8161-4f4918664b2f",
   "metadata": {},
   "outputs": [],
   "source": []
  },
  {
   "cell_type": "code",
   "execution_count": null,
   "id": "8c129655-5a6f-42a9-9c02-fcc68499919a",
   "metadata": {},
   "outputs": [],
   "source": []
  },
  {
   "cell_type": "code",
   "execution_count": null,
   "id": "0f4c4411-264a-4966-9c8d-e42ebeef6e64",
   "metadata": {},
   "outputs": [],
   "source": []
  },
  {
   "cell_type": "code",
   "execution_count": null,
   "id": "e6c56ff5-6596-4b82-9762-a8266ea1defc",
   "metadata": {},
   "outputs": [],
   "source": []
  },
  {
   "cell_type": "code",
   "execution_count": null,
   "id": "085bfd34-c23c-493b-8163-9d8675adf033",
   "metadata": {},
   "outputs": [],
   "source": []
  },
  {
   "cell_type": "markdown",
   "id": "89c70b71-5892-4686-b6bf-5b5fd0aa4a94",
   "metadata": {},
   "source": [
    "### PART 3 - Testing on Quantum Simulators and Quantum Computers"
   ]
  },
  {
   "cell_type": "code",
   "execution_count": null,
   "id": "fca275af-813b-41f8-bbd1-16b99167488e",
   "metadata": {},
   "outputs": [],
   "source": []
  },
  {
   "cell_type": "markdown",
   "id": "70e846cf-da8a-4b72-9d64-9495eb74d7e4",
   "metadata": {},
   "source": [
    "### PART 4 - Comparing results with Classical Computing"
   ]
  },
  {
   "cell_type": "markdown",
   "id": "21b6acd2-2c9b-4db3-9c88-09886affc2de",
   "metadata": {},
   "source": [
    "For comparisons, let us use the two methods described earlier in the document as benchmarks: the brute force algorithm and the held-karp algorithm."
   ]
  },
  {
   "cell_type": "markdown",
   "id": "2b35da52-beba-4b45-87fd-d7c20b52c3f8",
   "metadata": {},
   "source": [
    "#### Brute force Algorithm"
   ]
  },
  {
   "cell_type": "code",
   "execution_count": 2,
   "id": "1c8310ba-c840-4ae0-b239-d9bc5f5b2662",
   "metadata": {},
   "outputs": [],
   "source": [
    "import numpy as np\n",
    "import matplotlib.pyplot as plt\n",
    "%matplotlib inline\n",
    "\n",
    "\n",
    "def create_cities(N):\n",
    "    \"\"\"\n",
    "    Creates an array of random points of size N.\n",
    "    \"\"\"\n",
    "    cities = []\n",
    "    for i in range(N):\n",
    "        cities.append(np.random.rand(2) * 10)\n",
    "    return np.array(cities)\n",
    "\n",
    "cities = create_cities(4)"
   ]
  },
  {
   "cell_type": "code",
   "execution_count": 5,
   "id": "fc58e36d-736a-4665-8bdc-b3fd90601d17",
   "metadata": {},
   "outputs": [
    {
     "data": {
      "image/png": "[encoded data removed]",
      "text/plain": [
       "<Figure size 432x288 with 1 Axes>"
      ]
     },
     "metadata": {
      "needs_background": "light"
     },
     "output_type": "display_data"
    }
   ],
   "source": [
    "from Scripts.plots import plot_cities\n",
    "plot_cities(cities)"
   ]
  },
  {
   "cell_type": "code",
   "execution_count": 6,
   "id": "de355027-6af4-4a79-a8fe-72b944679043",
   "metadata": {},
   "outputs": [],
   "source": [
    "import itertools\n",
    "\n",
    "def distance_between_points(point_A, point_B):\n",
    "    return np.sqrt((point_A[0] - point_B[0])**2 + (point_A[1] - point_B[1])**2)\n",
    "\n",
    "def get_distance_matrix(cities):\n",
    "    number_of_cities = len(cities)\n",
    "    matrix = np.zeros((number_of_cities, number_of_cities))\n",
    "    for i in range(number_of_cities):\n",
    "        for j in range(i, number_of_cities):\n",
    "            matrix[i][j] = distance_between_points(cities[i], cities[j])\n",
    "            matrix[j][i] = matrix[i][j]\n",
    "    return matrix"
   ]
  },
  {
   "cell_type": "code",
   "execution_count": 7,
   "id": "7aff1c72-2104-4fab-a149-db2be90c4df7",
   "metadata": {},
   "outputs": [
    {
     "name": "stdout",
     "output_type": "stream",
     "text": [
      "[[0.         4.12436491 4.08896887 7.1646063 ]\n",
      " [4.12436491 0.         0.20343007 3.04029095]\n",
      " [4.08896887 0.20343007 0.         3.08847553]\n",
      " [7.1646063  3.04029095 3.08847553 0.        ]]\n"
     ]
    }
   ],
   "source": [
    "distance_matrix = get_distance_matrix(cities)\n",
    "print(distance_matrix)"
   ]
  },
  {
   "cell_type": "code",
   "execution_count": 8,
   "id": "84413fb5-c453-4749-999b-60c71da8c120",
   "metadata": {},
   "outputs": [],
   "source": [
    "def calculate_cost(cost_matrix, solution):\n",
    "    cost = 0\n",
    "    # I skiped one pair (first, last), since we don't care about returning to the starting point\n",
    "    return sum([cost_matrix[a][b] for a, b  in zip(solution[:-1], solution[1:])])\n",
    "\n",
    "\n",
    "def solve_tsp_brute_force(cities, starting_city, verbose=True):\n",
    "    number_of_cities = len(cities)\n",
    "    initial_order = range(number_of_cities)\n",
    "    cost_matrix = get_distance_matrix(cities)\n",
    "    \n",
    "    # We create all the possible routes\n",
    "    all_permutations = [list(x) for x in itertools.permutations(initial_order)]\n",
    "    best_permutation = all_permutations[0]\n",
    "    best_cost = calculate_cost(cost_matrix, best_permutation)*1000\n",
    "    \n",
    "    # We iterate through all the permutations and calculate their cost\n",
    "    for permutation in all_permutations:\n",
    "        if permutation[0] != starting_city:\n",
    "            continue\n",
    "        current_cost = calculate_cost(cost_matrix, permutation)\n",
    "        if current_cost < best_cost:\n",
    "            best_permutation = permutation\n",
    "            best_cost = current_cost\n",
    "    if verbose:\n",
    "        print(\"Best route:\", best_permutation)\n",
    "        print(\"Cost:\", best_cost)\n",
    "    return best_permutation"
   ]
  },
  {
   "cell_type": "code",
   "execution_count": 9,
   "id": "d2007e99-d547-4167-b292-56951527d352",
   "metadata": {},
   "outputs": [
    {
     "name": "stdout",
     "output_type": "stream",
     "text": [
      "Best route: [0, 2, 1, 3]\n",
      "Cost: 7.332689879984065\n"
     ]
    }
   ],
   "source": [
    "solution = solve_tsp_brute_force(cities, 0)"
   ]
  },
  {
   "cell_type": "code",
   "execution_count": 11,
   "id": "d438e8bc-3b8b-4d85-b6ec-cad7a30369eb",
   "metadata": {},
   "outputs": [
    {
     "data": {
      "image/png": "[encoded data removed]",
      "text/plain": [
       "<Figure size 432x288 with 1 Axes>"
      ]
     },
     "metadata": {
      "needs_background": "light"
     },
     "output_type": "display_data"
    }
   ],
   "source": [
    "from Scripts.plots import plot_solution\n",
    "plot_solution(cities, solution)"
   ]
  },
  {
   "cell_type": "code",
   "execution_count": 12,
   "id": "80f719bc-623b-41cf-9eff-3d217a6bacd3",
   "metadata": {},
   "outputs": [
    {
     "name": "stdout",
     "output_type": "stream",
     "text": [
      "Best route: [0, 4, 2, 1, 5, 3]\n",
      "Cost: 17.261229408888518\n"
     ]
    },
    {
     "data": {
      "image/png": "[encoded data removed]",
      "text/plain": [
       "<Figure size 432x288 with 1 Axes>"
      ]
     },
     "metadata": {
      "needs_background": "light"
     },
     "output_type": "display_data"
    }
   ],
   "source": [
    "cities_6 = create_cities(6)\n",
    "solution = solve_tsp_brute_force(cities_6, 0)\n",
    "plot_solution(cities_6, solution)"
   ]
  },
  {
   "cell_type": "code",
   "execution_count": 13,
   "id": "6a82218e-5f7b-4426-ad0f-7d05e53b0c02",
   "metadata": {},
   "outputs": [
    {
     "name": "stdout",
     "output_type": "stream",
     "text": [
      "Best route: [0, 9, 7, 5, 2, 1, 6, 8, 4, 3]\n",
      "Cost: 24.080931920787926\n"
     ]
    },
    {
     "data": {
      "image/png": "[encoded data removed]",
      "text/plain": [
       "<Figure size 432x288 with 1 Axes>"
      ]
     },
     "metadata": {
      "needs_background": "light"
     },
     "output_type": "display_data"
    }
   ],
   "source": [
    "cities_10 = create_cities(10)\n",
    "solution = solve_tsp_brute_force(cities_10, 0)\n",
    "plot_solution(cities_10, solution)"
   ]
  },
  {
   "cell_type": "code",
   "execution_count": 14,
   "id": "68e1d50f-8171-4ae8-b597-e857252db5f9",
   "metadata": {},
   "outputs": [
    {
     "name": "stdout",
     "output_type": "stream",
     "text": [
      "4 cities\n",
      "CPU times: user 158 µs, sys: 92 µs, total: 250 µs\n",
      "Wall time: 249 µs\n",
      "5 cities\n",
      "CPU times: user 293 µs, sys: 0 ns, total: 293 µs\n",
      "Wall time: 310 µs\n",
      "6 cities\n",
      "CPU times: user 680 µs, sys: 0 ns, total: 680 µs\n",
      "Wall time: 653 µs\n",
      "7 cities\n",
      "CPU times: user 3.1 ms, sys: 0 ns, total: 3.1 ms\n",
      "Wall time: 2.99 ms\n",
      "8 cities\n",
      "CPU times: user 13.5 ms, sys: 0 ns, total: 13.5 ms\n",
      "Wall time: 13.3 ms\n",
      "9 cities\n",
      "CPU times: user 191 ms, sys: 10 ms, total: 201 ms\n",
      "Wall time: 200 ms\n"
     ]
    }
   ],
   "source": [
    "for i in range(4, 10):\n",
    "    print(i, \"cities\")\n",
    "    %time solution = solve_tsp_brute_force(create_cities(i), 0, verbose=False)"
   ]
  },
  {
   "cell_type": "code",
   "execution_count": 15,
   "id": "1afb47c8-fcc5-4c2e-a8c4-dc7f0e367fa0",
   "metadata": {},
   "outputs": [
    {
     "name": "stdout",
     "output_type": "stream",
     "text": [
      "3 cities\n",
      "26.7 µs ± 15.4 µs per loop (mean ± std. dev. of 7 runs, 100 loops each)\n",
      "4 cities\n",
      "31.1 µs ± 5.33 µs per loop (mean ± std. dev. of 7 runs, 100 loops each)\n",
      "5 cities\n",
      "54.2 µs ± 1.63 µs per loop (mean ± std. dev. of 7 runs, 100 loops each)\n",
      "6 cities\n",
      "209 µs ± 7.48 µs per loop (mean ± std. dev. of 7 runs, 100 loops each)\n",
      "7 cities\n",
      "1.24 ms ± 15.4 µs per loop (mean ± std. dev. of 7 runs, 100 loops each)\n",
      "8 cities\n",
      "9.21 ms ± 98.3 µs per loop (mean ± std. dev. of 7 runs, 100 loops each)\n"
     ]
    },
    {
     "data": {
      "text/plain": [
       "[<matplotlib.lines.Line2D at 0x7fab64733220>]"
      ]
     },
     "execution_count": 15,
     "metadata": {},
     "output_type": "execute_result"
    },
    {
     "data": {
      "image/png": "[encoded data removed]",
      "text/plain": [
       "<Figure size 432x288 with 1 Axes>"
      ]
     },
     "metadata": {
      "needs_background": "light"
     },
     "output_type": "display_data"
    }
   ],
   "source": [
    "calculation_times = []\n",
    "city_sizes = range(3, 9)\n",
    "\n",
    "for i in city_sizes:\n",
    "    print(i, \"cities\")\n",
    "    calc_time = %timeit -o -n 100 solve_tsp_brute_force(create_cities(i), 0, verbose=False) \n",
    "    calculation_times.append(calc_time.average)\n",
    "\n",
    "plt.plot(list(city_sizes), calculation_times, 'o-.')"
   ]
  },
  {
   "cell_type": "code",
   "execution_count": 17,
   "id": "9536c28c-cf73-4f56-ae5e-1cd1f79cd791",
   "metadata": {},
   "outputs": [],
   "source": [
    "from Scripts import simulated_annealing \n",
    "from Scripts.simulated_annealing import SimulatedAnnealer\n",
    "\n",
    "def solve_tsp_simulated_annealing(cities, starting_city):\n",
    "    sa = SimulatedAnnealer(cities, stopping_iter=5000, starting_city=starting_city)\n",
    "    sa.anneal()\n",
    "    solution = sa.get_best_solution()\n",
    "\n",
    "    return solution"
   ]
  },
  {
   "cell_type": "code",
   "execution_count": 18,
   "id": "6760c2a8-ca36-4fa2-8448-266c86387aab",
   "metadata": {},
   "outputs": [
    {
     "data": {
      "image/png": "[encoded data removed]",
      "text/plain": [
       "<Figure size 432x288 with 1 Axes>"
      ]
     },
     "metadata": {
      "needs_background": "light"
     },
     "output_type": "display_data"
    }
   ],
   "source": [
    "cities = create_cities(20)\n",
    "sa_solution = solve_tsp_simulated_annealing(cities, 0)\n",
    "plot_solution(cities, sa_solution)"
   ]
  },
  {
   "cell_type": "code",
   "execution_count": null,
   "id": "2e416b32-4b8c-4370-9567-b9ad8f289da3",
   "metadata": {},
   "outputs": [],
   "source": []
  },
  {
   "cell_type": "code",
   "execution_count": null,
   "id": "1e005af8-d400-4c24-9909-0181065908c9",
   "metadata": {},
   "outputs": [],
   "source": []
  },
  {
   "cell_type": "code",
   "execution_count": null,
   "id": "b08f0387-5c5c-4107-a3c5-d73c5ad34742",
   "metadata": {},
   "outputs": [],
   "source": []
  },
  {
   "cell_type": "code",
   "execution_count": 1,
   "id": "927991d9-1551-4c87-815f-dc242eaf8dbf",
   "metadata": {},
   "outputs": [
    {
     "data": {
      "text/plain": [
       "[[0, 23, 85, 57, 64, 90, 75, 91, 35],\n",
       " [18, 0, 72, 18, 79, 96, 83, 30, 91],\n",
       " [92, 86, 0, 65, 81, 37, 30, 100, 53],\n",
       " [52, 75, 77, 0, 99, 42, 44, 50, 70],\n",
       " [90, 63, 34, 23, 0, 52, 53, 78, 51],\n",
       " [43, 41, 59, 74, 40, 0, 40, 67, 63],\n",
       " [42, 16, 53, 15, 99, 90, 0, 73, 23],\n",
       " [26, 54, 90, 92, 34, 84, 57, 0, 81],\n",
       " [64, 86, 82, 59, 21, 10, 73, 25, 0]]"
      ]
     },
     "execution_count": 1,
     "metadata": {},
     "output_type": "execute_result"
    }
   ],
   "source": [
    "import random\n",
    "\n",
    "def generate_distance_matrix(size):\n",
    "    matrix = [[0 if i == j else random.randint(10, 100) for j in range(size)] for i in range(size)]\n",
    "    return matrix\n",
    "\n",
    "# Use this to generate a 13x13 matrix\n",
    "distance_matrix_13x13 = generate_distance_matrix(9)\n",
    "distance_matrix_13x13"
   ]
  },
  {
   "cell_type": "code",
   "execution_count": 2,
   "id": "89ef34a1-2203-4133-9b2f-50561f7d4fdd",
   "metadata": {},
   "outputs": [
    {
     "name": "stdout",
     "output_type": "stream",
     "text": [
      "Minimum tour: (0, 8, 5, 4, 2, 6, 1, 3, 7)\n",
      "Minimum distance: 259\n",
      "Time taken: 0.18 seconds\n"
     ]
    }
   ],
   "source": [
    "from itertools import permutations\n",
    "import time\n",
    "\n",
    "# Function to calculate the total distance of a tour\n",
    "def calculate_distance(tour, distance_matrix):\n",
    "    total_distance = 0\n",
    "    for i in range(len(tour)):\n",
    "        total_distance += distance_matrix[tour[i-1]][tour[i]]\n",
    "    return total_distance\n",
    "\n",
    "# Brute force function for TSP\n",
    "def tsp_brute_force(distance_matrix):\n",
    "    n = len(distance_matrix)\n",
    "    # Generate all possible tours\n",
    "    tours = permutations(range(n))\n",
    "    min_distance = float('inf')\n",
    "    min_tour = None\n",
    "\n",
    "    # Iterate over all tours and find the one with the smallest distance\n",
    "    for tour in tours:\n",
    "        current_distance = calculate_distance(tour, distance_matrix)\n",
    "        if current_distance < min_distance:\n",
    "            min_distance = current_distance\n",
    "            min_tour = tour\n",
    "\n",
    "    return min_tour, min_distance\n",
    "\n",
    "# Example usage\n",
    "\n",
    "\n",
    "start_time = time.time()\n",
    "\n",
    "# Run the TSP brute force algorithm\n",
    "min_tour, min_distance = tsp_brute_force(distance_matrix_13x13)\n",
    "\n",
    "# End the timer\n",
    "end_time = time.time()\n",
    "\n",
    "# Calculate the time taken\n",
    "time_taken = end_time - start_time\n",
    "\n",
    "print(\"Minimum tour:\", min_tour)\n",
    "print(\"Minimum distance:\", min_distance)\n",
    "print(\"Time taken: {:.2f} seconds\".format(time_taken))\n"
   ]
  },
  {
   "cell_type": "markdown",
   "id": "5a243c51-f177-4ef6-a3d0-3df3ec8d7379",
   "metadata": {},
   "source": [
    "#### Held-Karp Algorithm"
   ]
  },
  {
   "cell_type": "code",
   "execution_count": 5,
   "id": "c63cf4f7-70ae-4b32-bab2-5b425206f772",
   "metadata": {},
   "outputs": [
    {
     "name": "stdout",
     "output_type": "stream",
     "text": [
      "Minimum cost: 259\n",
      "Path: [0, 8, 5, 4, 2, 6, 1, 3, 7]\n",
      "Time taken: 0.00 seconds\n"
     ]
    }
   ],
   "source": [
    "from itertools import combinations\n",
    "\n",
    "def held_karp(distances):\n",
    "    n = len(distances)\n",
    "    C = {}\n",
    "\n",
    "    # Set initial values\n",
    "    for k in range(1, n):\n",
    "        C[(1 << k, k)] = (distances[0][k], 0)\n",
    "\n",
    "    # Iterate through subsets of increasing length and keep track of minimum distances\n",
    "    for subset_size in range(2, n):\n",
    "        for subset in combinations(range(1, n), subset_size):\n",
    "            bits = 0\n",
    "            for bit in subset:\n",
    "                bits |= 1 << bit\n",
    "\n",
    "            for k in subset:\n",
    "                prev = bits & ~(1 << k)\n",
    "\n",
    "                res = []\n",
    "                for m in subset:\n",
    "                    if m == 0 or m == k:\n",
    "                        continue\n",
    "                    res.append((C[(prev, m)][0] + distances[m][k], m))\n",
    "                C[(bits, k)] = min(res)\n",
    "\n",
    "    bits = (2**n - 1) - 1\n",
    "\n",
    "    # Look for optimal solution\n",
    "    res = []\n",
    "    for k in range(1, n):\n",
    "        res.append((C[(bits, k)][0] + distances[k][0], k))\n",
    "    opt, parent = min(res)\n",
    "\n",
    "    # Backtrack to find full path\n",
    "    path = []\n",
    "    for i in range(n - 1):\n",
    "        path.append(parent)\n",
    "        new_bits = bits & ~(1 << parent)\n",
    "        _, parent = C[(bits, parent)]\n",
    "        bits = new_bits\n",
    "\n",
    "    # Add start and end points\n",
    "    path.append(0)\n",
    "\n",
    "    return opt, list(reversed(path))\n",
    "\n",
    "# Example usage\n",
    "\n",
    "start_time = time.time()\n",
    "\n",
    "# Run the TSP brute force algorithm\n",
    "cost, path = held_karp(distance_matrix_13x13)\n",
    "\n",
    "# End the timer\n",
    "end_time = time.time()\n",
    "\n",
    "# Calculate the time taken\n",
    "time_taken = end_time - start_time\n",
    "\n",
    "print(f\"Minimum cost: {cost}\")\n",
    "print(f\"Path: {path}\")\n",
    "print(\"Time taken: {:.2f} seconds\".format(time_taken))\n"
   ]
  },
  {
   "cell_type": "markdown",
   "id": "7ca43f7b-5e54-4eab-9788-65ba27fee618",
   "metadata": {},
   "source": [
    "### PART 5 - Conclusion"
   ]
  },
  {
   "cell_type": "code",
   "execution_count": null,
   "id": "0a8d292e-0539-46de-bd22-16ac4403ce53",
   "metadata": {},
   "outputs": [],
   "source": []
  }
 ],
 "metadata": {
  "kernelspec": {
   "display_name": "Python 3 (ipykernel)",
   "language": "python",
   "name": "python3"
  },
  "language_info": {
   "codemirror_mode": {
    "name": "ipython",
    "version": 3
   },
   "file_extension": ".py",
   "mimetype": "text/x-python",
   "name": "python",
   "nbconvert_exporter": "python",
   "pygments_lexer": "ipython3",
   "version": "3.10.12"
  }
 },
 "nbformat": 4,
 "nbformat_minor": 5
}
