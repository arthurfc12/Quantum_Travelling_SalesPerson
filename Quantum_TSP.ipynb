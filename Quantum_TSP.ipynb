{
 "cells": [
  {
   "cell_type": "markdown",
   "id": "d9dfa109-850a-4c85-b868-01d5ecb95197",
   "metadata": {},
   "source": [
    "# Quantum Travelling Salesman Problem\n",
    "### Andre Rocco\n",
    "### Arthur Carvalho"
   ]
  },
  {
   "cell_type": "markdown",
   "id": "ae2a8491-a4c6-4e1f-8bfb-1392424d53b8",
   "metadata": {},
   "source": [
    "In the following notebook, we shall describe a phase oracle with the intention of identifying possible points of interest in optimizing the Travelling Salesman problem.\n",
    "\n",
    "After that, a viable solution will be implemented using quantum parallelism, which will then be tested in quantum simulators and real quantum computers.\n",
    "\n",
    "Lastly, we will test the performance of our implementation against widely known solutions in the classical computing sphere and comparing results.\""
   ]
  },
  {
   "cell_type": "markdown",
   "id": "9ced5762-b9af-469f-b1c2-ae325b35c04a",
   "metadata": {},
   "source": [
    "### PART 1 - Describing a Phase Oracle"
   ]
  },
  {
   "cell_type": "markdown",
   "id": "8d0a2c66-98aa-44e8-808b-d8d0bb8f3f7c",
   "metadata": {},
   "source": [
    "#### Describing the Travelling Salesman Problem"
   ]
  },
  {
   "cell_type": "markdown",
   "id": "bb25d441-7a21-422e-86d0-c5ba57d2a753",
   "metadata": {},
   "source": [
    "&nbsp;&nbsp;&nbsp;&nbsp;First, lets start by explaining what the travelling salesman problem entails:\n",
    "\n",
    "&nbsp;&nbsp;&nbsp;&nbsp;The travelling Salesman Problem is a Np-hard problem which asks the following question:\n",
    "        \n",
    "&nbsp;&nbsp;&nbsp;&nbsp;\"Given a list of locations and the distances between each pair of locations, what is the shortest possible route that visits each location exactly once and returns to the origin location?\"\n",
    "\n",
    "&nbsp;&nbsp;&nbsp;&nbsp;See the image below for a visual representation of a route in the travelling salesman problem:\n",
    "\n",
    "<img src=\"Images/TSP_example.png\">\n",
    "    \n",
    "&nbsp;&nbsp;&nbsp;&nbsp;As you can see, various points are laid out, similar to a map, and a route is traced between the points, with the last trace of the route being a connection between the last point and the origin location\n",
    "\n",
    "&nbsp;&nbsp;&nbsp;&nbsp;With that in mind, a non-quantum computing solution to the problem uses a plethora of algorithms with the intention of finding the best route possible with the locations specified. Imagine that, for the solution of the problem, a user tries to employ an exhaustive search, a brute force algorithm which tests all the possible configurations of the parameters, so that the best possible route is found.\n",
    "\n",
    "&nbsp;&nbsp;&nbsp;&nbsp;By doing so, an obvious problem arises: for every time the n number of locations that the algorithm will have to test is added upon, the number of possible routes raises exponentially, and, with a large enough number of n locations, trying to brute force a solution with regular computing becomes unfeasible.\n",
    "\n",
    "&nbsp;&nbsp;&nbsp;&nbsp;Even with a non brute force algorithm, using certain heuristics, a feasible solution starts becoming harder every time the number of locations rises with the possible configurations of routes."
   ]
  },
  {
   "cell_type": "markdown",
   "id": "d166d08c-4f7a-472f-ba44-f5171b815411",
   "metadata": {},
   "source": [
    "#### Time complexity of the Travelling Salesman Problem"
   ]
  },
  {
   "cell_type": "markdown",
   "id": "ae32d9f5-f13e-4db6-8af3-9b8add0bc420",
   "metadata": {},
   "source": [
    "&nbsp;&nbsp;&nbsp;&nbsp;Considering the Travelling Salesman Problem as a NP-hard problem, the computational, and therefore, the time complexity of the problem is one of imense proportions.\n",
    "\n",
    "&nbsp;&nbsp;&nbsp;&nbsp;By adopting a brute force algorithm, where an exhaustive search is employed in order to check every possible combination of routes possible, the time complexity turns out to O(n!), because each time a new node is added to the existing nodes, the possible routes increases factorially.\n",
    "\n",
    "&nbsp;&nbsp;&nbsp;&nbsp;It is also possible to adopt an optimization for the problem in classical computing, such as the Held Karp algorithm. The Held Karp algortihm proposes that the route should be divided into sub-routes, where, if a particular sub-route is found to be optimal, we could find in lesser time the optimal route of the problem as a whole by adding the multiple optimal stretches in a route. See the example below:\n",
    "\n",
    "    Optimal Path P connects cities A-D while passing through C and E.\n",
    "    Optimal Path Q connects cities D-G while passing through F and B\n",
    "    Optimal Path R connects cities G and A\n",
    "\n",
    "&nbsp;&nbsp;&nbsp;&nbsp;in an algorithm as such, by utilizing parallelism and other tools to hastily apply the parameters in an optimal fashion, the time complexity of the problem narrows down to O($2^n$ * n²), but, in order to satisfy the higher load of data being generated by the algorithm, O(2$n^n$) space is required, whereas the brute force method requires only O($n^2$) space.\n"
   ]
  },
  {
   "cell_type": "markdown",
   "id": "36bde448-04f3-4e30-96ea-5e5d01714d44",
   "metadata": {},
   "source": [
    "#### Using a Phase Oracle for optimization "
   ]
  },
  {
   "cell_type": "markdown",
   "id": "358e4f03-c61e-45ad-be59-70bcc2c1c9ce",
   "metadata": {},
   "source": [
    "&nbsp;&nbsp;&nbsp;&nbsp;A Phase Oracle is a device in quantum computing which utilizes phase shifts on quantum states to encode solutions to a problem. When using a Phase Oracle, if a solution is deemed worthy, the phase shift is applied, and, if not, no phase shift or a phase shift of different size is applied.\n",
    "\n",
    "&nbsp;&nbsp;&nbsp;&nbsp;In regards to the Travelling Salesman Problem, a method of optimization can be achieved with the following steps:\n",
    "\n",
    "    - A route (e.g. A-B-C-A) can be labelled as a quantum state;\n",
    "    - A phase shift is applied to the states. The phase shift depends on the total distance of the route, with shorter routes receiving a smaller phase;\n",
    "    - Quantum parallelism is applied to speed up the processing power of the algorithm;\n",
    "    - Amplitude Amplification is applied to have better odds of finding the best route;\n",
    "    - The route with smallest phase is chosen as the optimal route.\n",
    "\n",
    "&nbsp;&nbsp;&nbsp;&nbsp;By applying the method above, which is commonly reffered to as a Grover's algorithm, quadratic speedup can be achieved, meaning that if an algorithm runs in O(n) time complexity, with this method the complexity shrinks to O($\\sqrt{n}$).\n",
    "\n",
    "&nbsp;&nbsp;&nbsp;&nbsp;The principal challenge that arises in utilizing such an algorithm stems from the fact that, in order to correctly implement a phase oracle, it is required to have a trustworthy calculation of the quality of the solution in superposition, and that may configure itself to be both complex and resource intensive.\n"
   ]
  },
  {
   "cell_type": "markdown",
   "id": "7961ba69-1c53-42bf-b3d0-b5423106894d",
   "metadata": {},
   "source": [
    "### PART 2 - Implementing a solution using Quantum Parallelism"
   ]
  },
  {
   "cell_type": "code",
   "execution_count": null,
   "id": "da8b63e7-626c-461f-afab-16e9e6638c81",
   "metadata": {},
   "outputs": [],
   "source": []
  },
  {
   "cell_type": "markdown",
   "id": "89c70b71-5892-4686-b6bf-5b5fd0aa4a94",
   "metadata": {},
   "source": [
    "### PART 3 - Testing on Quantum Simulators and Quantum Computers"
   ]
  },
  {
   "cell_type": "code",
   "execution_count": null,
   "id": "fca275af-813b-41f8-bbd1-16b99167488e",
   "metadata": {},
   "outputs": [],
   "source": []
  },
  {
   "cell_type": "markdown",
   "id": "70e846cf-da8a-4b72-9d64-9495eb74d7e4",
   "metadata": {},
   "source": [
    "### PART 4 - Comparing results with Classical Computing"
   ]
  },
  {
   "cell_type": "code",
   "execution_count": null,
   "id": "c63cf4f7-70ae-4b32-bab2-5b425206f772",
   "metadata": {},
   "outputs": [],
   "source": []
  },
  {
   "cell_type": "markdown",
   "id": "7ca43f7b-5e54-4eab-9788-65ba27fee618",
   "metadata": {},
   "source": [
    "### PART 5 - Conclusion"
   ]
  },
  {
   "cell_type": "code",
   "execution_count": null,
   "id": "0a8d292e-0539-46de-bd22-16ac4403ce53",
   "metadata": {},
   "outputs": [],
   "source": []
  }
 ],
 "metadata": {
  "kernelspec": {
   "display_name": "Python 3 (ipykernel)",
   "language": "python",
   "name": "python3"
  },
  "language_info": {
   "codemirror_mode": {
    "name": "ipython",
    "version": 3
   },
   "file_extension": ".py",
   "mimetype": "text/x-python",
   "name": "python",
   "nbconvert_exporter": "python",
   "pygments_lexer": "ipython3",
   "version": "3.10.12"
  }
 },
 "nbformat": 4,
 "nbformat_minor": 5
}
